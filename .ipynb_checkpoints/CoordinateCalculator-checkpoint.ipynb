{
 "cells": [
  {
   "cell_type": "markdown",
   "id": "1b31be22",
   "metadata": {},
   "source": [
    "# Geographic Coordinate Converter\n",
    "\n",
    "Converts a geographic coordinate in DDMMSS format to DD"
   ]
  },
  {
   "cell_type": "markdown",
   "id": "220c42ad",
   "metadata": {},
   "source": [
    "Step 1 - Use the Python input function to prompt a user to enter a geographic coordinate in DDMMSS format (e.g., 391120)."
   ]
  },
  {
   "cell_type": "code",
   "execution_count": 14,
   "id": "16f5440b",
   "metadata": {},
   "outputs": [
    {
     "name": "stdout",
     "output_type": "stream",
     "text": [
      "Please enter a coordinate in DDMMSS format: 963444\n",
      "Your final result is: 96.58 degrees\n"
     ]
    }
   ],
   "source": [
    "#The input below promts the user to input a geographic coordinate\n",
    "x = input(\"Please enter a coordinate in DDMMSS format: \")\n",
    "#The degrees, minutes, and seconds are being seperated and attached to a variable\n",
    "d = float(x[:2])\n",
    "m = float(x[2:4])\n",
    "s = float(x[4:])\n",
    "#This is the seconds being converted to minutes\n",
    "m = m + s / 60\n",
    "#This is the minutes being converted to degrees\n",
    "d = d + m / 60\n",
    "#Below the answer is being rounded to the nearest hundedth\n",
    "d = round(d, 2)\n",
    "#The converted coordinate in a decimal degree format is printed for the user\n",
    "print(f\"Your final result is: {d} degrees\")\n"
   ]
  },
  {
   "cell_type": "markdown",
   "id": "50c7e956",
   "metadata": {},
   "source": [
    "Step 2 - Determine the data type of x and print its value before moving forward."
   ]
  },
  {
   "cell_type": "code",
   "execution_count": null,
   "id": "2a5030b7",
   "metadata": {},
   "outputs": [],
   "source": [
    "type(x)"
   ]
  },
  {
   "cell_type": "code",
   "execution_count": null,
   "id": "98e7e8fb",
   "metadata": {},
   "outputs": [],
   "source": [
    "print(x)"
   ]
  }
 ],
 "metadata": {
  "kernelspec": {
   "display_name": "Python 3 (ipykernel)",
   "language": "python",
   "name": "python3"
  },
  "language_info": {
   "codemirror_mode": {
    "name": "ipython",
    "version": 3
   },
   "file_extension": ".py",
   "mimetype": "text/x-python",
   "name": "python",
   "nbconvert_exporter": "python",
   "pygments_lexer": "ipython3",
   "version": "3.9.16"
  }
 },
 "nbformat": 4,
 "nbformat_minor": 5
}
